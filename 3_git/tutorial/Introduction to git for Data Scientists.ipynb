{
 "cells": [
  {
   "cell_type": "markdown",
   "metadata": {
    "slideshow": {
     "slide_type": "slide"
    }
   },
   "source": [
    "# Introduction to git for Data Scientists"
   ]
  },
  {
   "cell_type": "markdown",
   "metadata": {
    "slideshow": {
     "slide_type": "slide"
    }
   },
   "source": [
    "**Part I:**\n",
    "* What problem version control software tries to solve?\n",
    "* How to create a git repository (init, status)\n",
    "* The four main stages of a file in a repository: untracked, tracked, staged and committed (ignore, add, commit, rm)\n",
    "\n",
    "**Part II:**\n",
    "* How to track changes of a file in a repository (diff, log)\n",
    "* How to maintain different versions of a file without going crazy or using N suffixes (branch, checkout)\n",
    "* Time-travel with git (revert, checkout, reset)\n",
    "\n",
    "**Part III:**\n",
    "* How to work with friends on the same file... and remain friends (merge)\n",
    "* Working with remote repositories (clone, fetch, pull, push, pull requests)\n",
    "* Contributing flows (forks, feature branches)"
   ]
  },
  {
   "cell_type": "markdown",
   "metadata": {
    "slideshow": {
     "slide_type": "slide"
    }
   },
   "source": [
    "## Part I\n",
    "\n",
    "* How to create a git repository (init, status)\n",
    "* The four main stages of a file in a repository: untracked, tracked, staged and committed (ignore, add, commit, rm)"
   ]
  },
  {
   "cell_type": "markdown",
   "metadata": {
    "slideshow": {
     "slide_type": "notes"
    }
   },
   "source": [
    "**Warning**: This tutorial is meant to be executed ONCE and in the given order. Since in fact each step has side-effects, running one of the cells will likely change the output of re-running one of the previous cells. If you need to re-run previous cells, you will need to re-run all cells starting from the very first one below (cf. Creating a new repository)"
   ]
  },
  {
   "cell_type": "markdown",
   "metadata": {
    "slideshow": {
     "slide_type": "slide"
    }
   },
   "source": [
    "## Creating a new repository\n",
    "We will start by creating a git repository in a new subfolder of the folder where this notebook lives."
   ]
  },
  {
   "cell_type": "code",
   "execution_count": null,
   "metadata": {
    "slideshow": {
     "slide_type": "fragment"
    }
   },
   "outputs": [],
   "source": [
    "%%bash \n",
    "rm -Rf my_first_repo\n",
    "mkdir my_first_repo\n",
    "git init my_first_repo"
   ]
  },
  {
   "cell_type": "markdown",
   "metadata": {
    "slideshow": {
     "slide_type": "slide"
    }
   },
   "source": [
    "From now on, we have all the necessary components for git to start tracking changes in this repository. But what has the command exactly done? Let's check out the .git folder directory structure:"
   ]
  },
  {
   "cell_type": "code",
   "execution_count": null,
   "metadata": {},
   "outputs": [],
   "source": [
    "%%bash \n",
    "ls -lai my_first_repo/.git"
   ]
  },
  {
   "cell_type": "markdown",
   "metadata": {},
   "source": [
    "As you can see the `git init` command has created a bunch of files and directories inside the `.git` folder. These are the files that store all the information necessary to track and navigate through changes of the files in your repository. If you are curious (or even better when you understand the basics well), you can read more about each component's role in the [Pro git book (available for free online)](https://git-scm.com/book/en/v2/Git-Internals-Plumbing-and-Porcelain#ch10-git-internals)."
   ]
  },
  {
   "cell_type": "markdown",
   "metadata": {
    "slideshow": {
     "slide_type": "slide"
    }
   },
   "source": [
    "We will now start introducing changes (that is, files) into our repository. Do we have anything in the repository yet? "
   ]
  },
  {
   "cell_type": "code",
   "execution_count": null,
   "metadata": {
    "slideshow": {
     "slide_type": "subslide"
    }
   },
   "outputs": [],
   "source": [
    "%%bash \n",
    "cd my_first_repo\n",
    "git status"
   ]
  },
  {
   "cell_type": "markdown",
   "metadata": {
    "slideshow": {
     "slide_type": "subslide"
    }
   },
   "source": [
    "The short answer is no, there's nothing in the repository because `git` only does what we tell it to do, and we haven't asked it to track any of the contents of the folder. That is why it lists the folder's contents as \"untracked\" files.\n",
    "\n",
    "As a sidenote, git is telling us that we are working in our \"master\" branch, which is the default name for the default branch of any project. We'll talk about branches later but for now we can already notice that the status command is telling us that there are a few files that are \"untracked\"."
   ]
  },
  {
   "cell_type": "markdown",
   "metadata": {
    "slideshow": {
     "slide_type": "slide"
    }
   },
   "source": [
    "## The first 2 out of 4 stages of a file in a repository\n",
    "\n",
    "As we saw in the previous section, when we create a new repository, git will start noticing files that exist in the same folder but are not yet tracked by\n",
    "git. This suggests that there are at least two stages in the lifetime a file living in the same folder of a git repository:\n",
    "* untracked\n",
    "* tracked\n",
    "\n",
    "For example, suppose that we start working on a new file `test.py` containig code we want to start tracking under git:"
   ]
  },
  {
   "cell_type": "code",
   "execution_count": null,
   "metadata": {
    "slideshow": {
     "slide_type": "subslide"
    }
   },
   "outputs": [],
   "source": [
    "%%bash\n",
    "echo \"print('Complicated Python pipeline')\" > my_first_repo/test.py"
   ]
  },
  {
   "cell_type": "markdown",
   "metadata": {
    "slideshow": {
     "slide_type": "subslide"
    }
   },
   "source": [
    "This new file (`test.py`) exists now in the repository but is not yet being tracked by git:"
   ]
  },
  {
   "cell_type": "code",
   "execution_count": null,
   "metadata": {
    "slideshow": {
     "slide_type": "subslide"
    }
   },
   "outputs": [],
   "source": [
    "%%bash\n",
    "cd my_first_repo\n",
    "git status"
   ]
  },
  {
   "cell_type": "markdown",
   "metadata": {
    "slideshow": {
     "slide_type": "subslide"
    }
   },
   "source": [
    "Git tells us that our new file `test.py` is **untracked**.\n",
    "\n",
    "If we want to start tracking this new file within our repository, \n",
    "we just need to `add` it for the first time:"
   ]
  },
  {
   "cell_type": "code",
   "execution_count": null,
   "metadata": {
    "slideshow": {
     "slide_type": "subslide"
    }
   },
   "outputs": [],
   "source": [
    "%%bash\n",
    "cd my_first_repo\n",
    "git add test.py\n",
    "git status"
   ]
  },
  {
   "cell_type": "markdown",
   "metadata": {
    "slideshow": {
     "slide_type": "subslide"
    }
   },
   "source": [
    "The `test.py` file we just created is now tracked by the repository, and git status tells us as much. \n",
    "\n",
    "Note that git will complain if we ask it to to track files that are in fact in folders other than the on where the repository was created:"
   ]
  },
  {
   "cell_type": "code",
   "execution_count": null,
   "metadata": {},
   "outputs": [],
   "source": [
    "%%bash\n",
    "cd my_first_repo\n",
    "touch ../another_test.txt\n",
    "# git add ../another_test.txt\n",
    "# This will fail with an error:\n",
    "# `fatal: ../another_test.txt: '../another_test.txt' is outside repository`"
   ]
  },
  {
   "cell_type": "markdown",
   "metadata": {
    "slideshow": {
     "slide_type": "slide"
    }
   },
   "source": [
    "### IMPORTANT: Things git should not track...\n",
    "\n",
    "There are some files that will be in the same folder as the repo but that we will never want to track. Examples of these are:\n",
    "* data files,\n",
    "* artifact files (serialized models, binaries),\n",
    "* **credentials**,\n",
    "* generally anything that is not source code.\n",
    "\n",
    "Suppose that we have a `data.csv` file that we don't want to include in the repository:"
   ]
  },
  {
   "cell_type": "code",
   "execution_count": null,
   "metadata": {},
   "outputs": [],
   "source": [
    "%%bash\n",
    "touch my_first_repo/data.csv"
   ]
  },
  {
   "cell_type": "markdown",
   "metadata": {},
   "source": [
    "This file will now show as an untracked file everytime we run `git status` which eventually will get a bit tiresome:"
   ]
  },
  {
   "cell_type": "code",
   "execution_count": null,
   "metadata": {},
   "outputs": [],
   "source": [
    "%%bash\n",
    "cd my_first_repo\n",
    "git status"
   ]
  },
  {
   "cell_type": "markdown",
   "metadata": {},
   "source": [
    "Since we don't want to track it, what we will do is tell `git` to **ignore** it. As a matter of fact, we will tell `git` to ignore all files ending with the\n",
    "`.csv` extension. To do that, we just need to create a file named `.gitignore` in the repo, containing the line `*.csv`:"
   ]
  },
  {
   "cell_type": "code",
   "execution_count": null,
   "metadata": {},
   "outputs": [],
   "source": [
    "%%bash\n",
    "cd my_first_repo\n",
    "echo \"*.csv\" > .gitignore\n",
    "git add .gitignore\n",
    "git status"
   ]
  },
  {
   "cell_type": "markdown",
   "metadata": {},
   "source": [
    "Note that we also started tracking the `.gitignore` file. Magically, git status now doesn't show `data.csv` anymore: `git` knows files like that one can be safely ignored."
   ]
  },
  {
   "cell_type": "markdown",
   "metadata": {},
   "source": [
    "**Excercise 0.0**: Why do you think we need to track (`git add`) the `.gitignore` file?\n",
    "\n",
    "**Excercise 0.1**: Can you think of (at least) two reasons why we typically don't want to track binary files in a git repository? "
   ]
  },
  {
   "cell_type": "markdown",
   "metadata": {},
   "source": [
    "## The last two of the four stages of a file in a repository\n",
    "\n",
    "We have seen that there are at least two stages in the lifetime a file living in the same folder of a git repository:\n",
    "* untracked: when a file resides in the same folder where we created the repository, but it is not under source control\n",
    "* tracked: when add a previously _untracked_ file into the repository.\n",
    "\n",
    "There are in fact two additional stages for files _tracked_ by a repository:\n",
    "* staged\n",
    "* commited\n",
    "\n",
    "As you saw, we started tracking a file `test.py` by git-adding it into the repository. As a matter of fact, the `git add` command\n",
    "did actually two things:\n",
    "* it told git to start tracking the contents of that file\n",
    "* it _staged_ the changes in the file (i.e. its creation) to prepare them to be _commited_\n",
    "\n",
    "You can think of _staging_ a file as the last step prior to making the file (or the changes introduced to the file) permanent in the repository. While a file is _staged_, you can continue to modify it:"
   ]
  },
  {
   "cell_type": "code",
   "execution_count": null,
   "metadata": {},
   "outputs": [],
   "source": [
    "%%bash\n",
    "cd my_first_repo\n",
    "# we add one more line to our `test.py` script\n",
    "echo \"print('Now it is even more complicated!')\" >> test.py\n",
    "git status"
   ]
  },
  {
   "cell_type": "markdown",
   "metadata": {},
   "source": [
    "And the file remains in its _staged_ state, but now `git status`\n",
    "informs us that our latest changes have not yet been staged.\n",
    "\n",
    "If we were to commit the _staged_ `test.py` changes now, we would not be \"saving\" the changes \n",
    "we just performed, because those changes haven't yet been staged. So let's stage them \n",
    "so that we can commit everything in one batch!"
   ]
  },
  {
   "cell_type": "code",
   "execution_count": null,
   "metadata": {},
   "outputs": [],
   "source": [
    "%%bash\n",
    "cd my_first_repo\n",
    "git add test.py\n",
    "git status"
   ]
  },
  {
   "cell_type": "markdown",
   "metadata": {},
   "source": [
    "### Commiting the staged changes\n",
    "\n",
    "In order to make the new files (or the changes in existing files) permanently stored in git, we need to _commit_ them.\n",
    "\n",
    "Here we need to explain what we mean by \"permantently storing\". Permanently storing changes in git (or most version control systems) doesn't mean that we won't be able to (or that we shouldn't) change those files ever again. On the contrary, it means that we will store the state of the file in the repository in a way that will allow us to build on top of that state, coming back to it at any point in the future. You read well, *any* point in the future! Git is like a time-travel machine!\n",
    "\n",
    "So let's _commit_ both of the staged changes (the ones in `.gitignore` and the ones in `test.py`):"
   ]
  },
  {
   "cell_type": "code",
   "execution_count": null,
   "metadata": {},
   "outputs": [],
   "source": [
    "%%bash\n",
    "cd my_first_repo\n",
    "git commit -m 'My first commit and my first commit message!'"
   ]
  },
  {
   "cell_type": "markdown",
   "metadata": {},
   "source": [
    "Now when we check the status of our repository, we notice that we no longer have staged\n",
    "changes:"
   ]
  },
  {
   "cell_type": "code",
   "execution_count": null,
   "metadata": {},
   "outputs": [],
   "source": [
    "%%bash\n",
    "cd my_first_repo\n",
    "git status"
   ]
  },
  {
   "cell_type": "markdown",
   "metadata": {},
   "source": [
    "### The opposite of `add`ing is `rm`oving!\n",
    "\n",
    "Sometimes we would like to stop tracking files we previously added to a repository, perhaps because they are no longer useful or because we added them mistakenly. \n",
    "\n",
    "There's a useful git command to do just that, which is `git rm`. To illustrate its behavior, we will first create, stage and commit a dummy file that we would later like to remove:"
   ]
  },
  {
   "cell_type": "code",
   "execution_count": null,
   "metadata": {},
   "outputs": [],
   "source": [
    "%%bash\n",
    "cd my_first_repo\n",
    "touch dummy.py\n",
    "git add dummy.py\n",
    "git commit -m 'commiting a dummy file just to remove it later!'"
   ]
  },
  {
   "cell_type": "markdown",
   "metadata": {},
   "source": [
    "Let's remove this dummy! "
   ]
  },
  {
   "cell_type": "code",
   "execution_count": null,
   "metadata": {},
   "outputs": [],
   "source": [
    "%%bash\n",
    "cd my_first_repo\n",
    "git rm dummy.py\n",
    "git status"
   ]
  },
  {
   "cell_type": "markdown",
   "metadata": {},
   "source": [
    "Suprise! Removing is dual to `add` in one more way: Applying `git rm` only _stages_ the delete operation but doesn't yet make it permanent. We need to further _commit_ it for the deletion to take place:"
   ]
  },
  {
   "cell_type": "code",
   "execution_count": null,
   "metadata": {},
   "outputs": [],
   "source": [
    "%%bash\n",
    "cd my_first_repo\n",
    "git commit -m 'Away with the dummy!'\n",
    "git status"
   ]
  },
  {
   "cell_type": "markdown",
   "metadata": {},
   "source": [
    "**Exercise 0.3**: Let's practice a bit more with the concepts of tracking, staging and committing. To this end, please try to follow these steps in order:\n",
    "1. Create two empty new files, start tracking and commit them (`A.txt` and `B.txt`). \n",
    "2. Change a few lines in `A.txt` and `B.txt` and stage the changes.\n",
    "3. *Unstage* `B.txt`. Hint: Google `git reset HEAD`. \n",
    "4. Now commit the changes in `A.txt`\n",
    "5. Stage `B.txt` and commit it (in a different commit!)"
   ]
  },
  {
   "cell_type": "markdown",
   "metadata": {},
   "source": [
    "## Take aways\n",
    "And now we're truly done with this first part where we have learned:\n",
    "\n",
    "0. The difference between _untracked_ and _tracked_ files in our repository\n",
    "1. How to start tracking a file into a repository, or _stage_ changes we have done to an already tracked file\n",
    "2. How to commit the _staged_ changes to make them permanent\n",
    "3. How to _remove_ a previously tracked file from the respository"
   ]
  },
  {
   "cell_type": "markdown",
   "metadata": {},
   "source": [
    "## Part II\n",
    "\n",
    "* How to track changes of a file in a repository (log, show, diff)\n",
    "* How to maintain different versions of a file without going crazy (branch, checkout)\n",
    "* Time-travel with git (revert, checkout, reset)"
   ]
  },
  {
   "cell_type": "markdown",
   "metadata": {},
   "source": [
    "**Warning**: This tutorial assumes you have already completed part 0 of this tutorial, and have run all the cells in that notebook *exactly once*"
   ]
  },
  {
   "cell_type": "markdown",
   "metadata": {},
   "source": [
    "## How to track changes of a file in a repository (log, show, diff)"
   ]
  },
  {
   "cell_type": "markdown",
   "metadata": {},
   "source": [
    "In the first part of this tutorial we have created a repository and added a few commits to it. Sometimes we will want git to remind us of the latest changes we have performed in our repository - this is where `git log` comes handy: "
   ]
  },
  {
   "cell_type": "code",
   "execution_count": null,
   "metadata": {},
   "outputs": [],
   "source": [
    "%%bash\n",
    "cd my_first_repo\n",
    "git log --graph"
   ]
  },
  {
   "cell_type": "markdown",
   "metadata": {},
   "source": [
    "**Exercise 1.0**: Show the commit history only for the file (aka. path) `test.py`. \n",
    "\n",
    "**Exercise 1.1**: Show the commit history only for the last two commits.\n",
    "\n",
    "**Exercise 1.2**: Show the commit history only for the first two commits.\n",
    "\n",
    "*Hint*: Check out [git log's documentation](https://git-scm.com/docs/git-log)"
   ]
  },
  {
   "cell_type": "markdown",
   "metadata": {},
   "source": [
    "Perhaps we also want to know what exactly we did in a given commit. `git show` is here to help us:"
   ]
  },
  {
   "cell_type": "code",
   "execution_count": null,
   "metadata": {},
   "outputs": [],
   "source": [
    "%%bash\n",
    "cd my_first_repo\n",
    "git show 33edc85477fb9db2a67e279b7b031d0a69a05002"
   ]
  },
  {
   "cell_type": "markdown",
   "metadata": {},
   "source": [
    "### Diffing is the name of the game\n",
    "\n",
    "Let's spice it up a little. We will now experiment with the `git diff` tool which allows us to understand what exactly changed between two commits, the staged changes and HEAD or other variations thereof.\n",
    "\n",
    "Before doing that, let's add some meat to our skinny repository! For the next few steps we will work with [an example of Machine Learning code in Python from Scikit-learn's](https://scikit-learn.org/stable/auto_examples/compose/plot_compare_reduction.html#sphx-glr-auto-examples-compose-plot-compare-reduction-py) library of examples. This means that you will **need to install scikit-learn v0.20.3 or compatible if you don't have it yet.**"
   ]
  },
  {
   "cell_type": "code",
   "execution_count": null,
   "metadata": {},
   "outputs": [],
   "source": [
    "%%bash\n",
    "rm -f my_first_repo/plot_compare_reduction.py*\n",
    "# This script (plot_compare_reduction.py) has been obtained via: \n",
    "# wget https://scikit-learn.org/stable/_downloads/plot_compare_reduction.py -P resources\n",
    "# A local copy is held in case sklearn's version changes\n",
    "cp resources/plot_compare_reduction.py my_first_repo/\n",
    "cd my_first_repo\n",
    "git add plot_compare_reduction.py\n",
    "git commit -m 'checking scikit learn example into our repo'"
   ]
  },
  {
   "cell_type": "markdown",
   "metadata": {},
   "source": [
    "Our first step will be to clean up the example to remove the part corresponding to \"Caching transformers within a `Pipeline`\":"
   ]
  },
  {
   "cell_type": "code",
   "execution_count": null,
   "metadata": {},
   "outputs": [],
   "source": [
    "%%bash\n",
    "cd my_first_repo\n",
    "# We will remove all code after line 91\n",
    "# If you're wondering why redirect and then mv, cf: https://unix.stackexchange.com/questions/15826/io-redirection-and-the-head-command\n",
    "head -n 91 plot_compare_reduction.py > tmp.py\n",
    "mv tmp.py plot_compare_reduction.py\n",
    "git add plot_compare_reduction.py\n",
    "git commit -m 'removing part corresponding to Caching transformers within a Pipeline'"
   ]
  },
  {
   "cell_type": "markdown",
   "metadata": {},
   "source": [
    "Did we do what we wanted? `git diff` is your ally because it will allow you to see what exactly changed relative to a past commit:"
   ]
  },
  {
   "cell_type": "code",
   "execution_count": null,
   "metadata": {},
   "outputs": [],
   "source": [
    "%%bash\n",
    "cd my_first_repo\n",
    "git diff `git log --pretty=format:'%h' -n 1`~1"
   ]
  },
  {
   "cell_type": "markdown",
   "metadata": {},
   "source": [
    "The `diff` output shows that we managed to do what we wanted.\n",
    "\n",
    "Note that here we used a trick:\n",
    "```\n",
    "`git log --pretty=format:'%h' -n 1`~1\n",
    "```\n",
    "to retrieve the previous' commit sha without having to know the sha in advance. Indeed:"
   ]
  },
  {
   "cell_type": "code",
   "execution_count": null,
   "metadata": {},
   "outputs": [],
   "source": [
    "%%bash\n",
    "cd my_first_repo\n",
    "git log --pretty=format:'%h' -n 1"
   ]
  },
  {
   "cell_type": "markdown",
   "metadata": {},
   "source": [
    "Returns the short sha of last commit (the one we just did), and by adding the `~1` suffix, we get a reference to the one previous to the last. \n",
    "\n",
    "In fact, in this particular case we overcomplicated the syntax since we could have simply used `git diff HEAD~1` to get the information we wanted."
   ]
  },
  {
   "cell_type": "markdown",
   "metadata": {},
   "source": [
    "**Exercise 1.4**: You will now modify the `my_first_repo/plot_compare_reduction.py` file so that:\n",
    "1. The values in the variable `C_OPTIONS` are `[1, 10, 100, 500]`\n",
    "2. Instead of plotting a figure, it saves the chart in a PNG file (hint: [plt.savefig](https://matplotlib.org/api/_as_gen/matplotlib.pyplot.savefig.html))\n",
    "\n",
    "It's important that you stage and commit **each of changes separately**. Make sure that you accomplished what you wanted by:\n",
    "1. Checking each diff relative to each previous commit.\n",
    "2. Running the resulting code"
   ]
  },
  {
   "cell_type": "markdown",
   "metadata": {},
   "source": [
    "## How to maintain different versions of a file without going crazy (branch, checkout)\n",
    "\n",
    "As you know, the typical data science flow involves a lot more changes than the ones we performed in Exercise 1.4. In particular, the development flow is not linear: one wants to be able to go back and forth between different experiments, and try different variations of a given change before consolidating it.\n",
    "\n",
    "The VCS-free approach to dealing with this variability is to append suffixes to our code files and artifacts (e.g. charts), which typically ends up with a pletora of files with cryptic names, each corresponding to a different variation:\n",
    "* plot_compare_reduction_v2.py\n",
    "* plot_compare_reduction_v2_include_LR.py\n",
    "* plot_compare_reduction_iris_data_v2.py...\n",
    "\n",
    "You get the point. The situation becomes even more daunting when there are several people working on the same project.\n",
    "\n",
    "Luckily, Git gives a number of tools to support this type of work in cleaner and more powerful way, leveraging the power of `branches`. As we saw during the lecture, one can think of a branch as a diversion from the master branch in such a way that we can always go back to any other branch (including the master one) with just a few keystrokes.\n",
    "\n",
    "Let's get to it. Suppose that we want to experiment with some serious changes to the `my_first_repo/plot_compare_reduction.py` script, changes that we are not sure will remain permanent. The first step is to create a new branch where we will start commiting these changes into, so that the stuff we have in our master branch remains unnaffected:"
   ]
  },
  {
   "cell_type": "code",
   "execution_count": null,
   "metadata": {},
   "outputs": [],
   "source": [
    "%%bash\n",
    "cd my_first_repo/\n",
    "# I usually use the convention of giving my branches names following the convention {user}/{short description}\n",
    "git branch -c $USER/experiment"
   ]
  },
  {
   "cell_type": "markdown",
   "metadata": {},
   "source": [
    "I now have two branches in my repository, as `git branch` cordially explains:"
   ]
  },
  {
   "cell_type": "code",
   "execution_count": null,
   "metadata": {},
   "outputs": [],
   "source": [
    "%%bash\n",
    "cd my_first_repo/\n",
    "git branch"
   ]
  },
  {
   "cell_type": "markdown",
   "metadata": {},
   "source": [
    "The * indicates to me that I'm currently working on my `master` branch. Since I want to perform a few naughty changes, I need first to switch to the newly created branch, and for that I will use `git checkout`:"
   ]
  },
  {
   "cell_type": "code",
   "execution_count": null,
   "metadata": {},
   "outputs": [],
   "source": [
    "%%bash\n",
    "cd my_first_repo/\n",
    "git checkout $USER/experiment"
   ]
  },
  {
   "cell_type": "markdown",
   "metadata": {},
   "source": [
    "**Exercise 1.5**: Can you visualize the differences between those two branches? (the `$USER/experiment` branch and the `master` branch) (hint: you can use git diff)"
   ]
  },
  {
   "cell_type": "markdown",
   "metadata": {},
   "source": [
    "To make things more interesting, we will create yet another branch to work on a couple changes that we would like to peform in order to show confidence intervals in the bar chart of our comparison plot:"
   ]
  },
  {
   "cell_type": "code",
   "execution_count": null,
   "metadata": {},
   "outputs": [],
   "source": [
    "%%bash\n",
    "cd my_first_repo/\n",
    "# `git checkout -b` performs a `branch -c` + `checkout`\n",
    "git checkout -b $USER/add_cis_to_plot master"
   ]
  },
  {
   "cell_type": "markdown",
   "metadata": {},
   "source": [
    "**Exercise 1.6**: Let's practice moving in and out of branches... it's a bit of work but we'll use what you do here later to work on `merge` and `rebases`. Please do the following:\n",
    "1. Make a few changes in the experiment code (for example: try another classifier or dimensionality reduction method) while working on the `$USER/experiment` branch. \n",
    "2. Introduce confidence intervals to the bar charts while working on the `$USER/add_cis_to_plot` branch\n",
    "\n",
    "**Important**: make sure you develop each change in the right branch, and that you stage and commit your work incrementally. Incremental commits are in general preferable over big long ones.\n",
    "\n",
    "*Questions*:\n",
    "1. After you've made the changes, what are the differences between the `$USER/experiment` and the `$USER/add_cis_to_plot` branches? \n",
    "2. Are there any conflicting changes?"
   ]
  },
  {
   "cell_type": "markdown",
   "metadata": {},
   "source": [
    "## Time-travel with git (checkout, revert, reset)\n",
    "\n",
    "During the course of the past exercises you have probably encountered a few situations where you made a mistake:\n",
    "* Perhaps you mistakenly staged files that you don't really want to track\n",
    "* Or you commited a change that you now regret\n",
    "* Or simply you want to go back to a state where you know things were stable...\n",
    "\n",
    "Don't you worry! The ability to go back and forth in your development timeline is one of the most powerful features git has to offer. "
   ]
  },
  {
   "cell_type": "markdown",
   "metadata": {},
   "source": [
    "### Unstaging changes\n",
    "One of the most common situations is when you accidentally stage changes on a tracked file, or start tracking a file you didn't want to track. Let's simulate this situation in our playground repo:"
   ]
  },
  {
   "cell_type": "code",
   "execution_count": null,
   "metadata": {},
   "outputs": [],
   "source": [
    "%%bash\n",
    "cd my_first_repo/\n",
    "# we will switch to a new branch for convenience\n",
    "git checkout -b $USER/time_travel master\n",
    "# accidental removal of \"a few\" lines in `plot_compare_reduction.py`\n",
    "head -n 50 plot_compare_reduction.py > plot_compare_reduction.py.tmp\n",
    "mv plot_compare_reduction.py.tmp plot_compare_reduction.py\n",
    "# change we actually want to make:\n",
    "echo \"import sys\\npython_major_version=sys.version_info[0]\\nassert python_major_version==3\" >> test.py\n",
    "# we carelessly add the accidental changes and the one we want to make\n",
    "git add --all\n",
    "git status"
   ]
  },
  {
   "cell_type": "markdown",
   "metadata": {},
   "source": [
    "The first problem is that we have added a `.png` file which is the artifact of our computation in `plot_compare_reduction.py`, and as we discussed earlier, we don't generally want to check artifacts (binaries) into git. So we will follow `git`'s suggestion and `unstage` it, by applying:"
   ]
  },
  {
   "cell_type": "code",
   "execution_count": null,
   "metadata": {},
   "outputs": [],
   "source": [
    "%%bash\n",
    "cd my_first_repo/\n",
    "git reset HEAD plot_compare_reduction.png\n",
    "git status"
   ]
  },
  {
   "cell_type": "markdown",
   "metadata": {},
   "source": [
    "We have successfully solved the first problem: the addition of an unwanted new file. But how did this happened? \n",
    "    \n",
    "A proper response to this answer would require a level of understanding of the git internals and commands that is a bit beyond the scope of this course, but I will attempt to simplify the explanation here. When we user `git reset` on a given path (file), what we told git is to bring the state of that file **in the staging area** (the index) to the commit `HEAD` is pointing too (the last commit of the branch). Since that commit points to a snapshot of the repository where the file `plot_compare_reduction.png` doesn't exist, the result is that the `add` operation we just performed on it is undone, so the file goes back to the pile of `untracked files`, as the `git status` command states.\n",
    "\n",
    "More information on `git reset`:\n",
    "\n",
    "* https://stackoverflow.com/questions/3639342/whats-the-difference-between-git-reset-and-git-checkout\n",
    "\n",
    "* https://git-scm.com/book/en/v2/Git-Tools-Reset-Demystified\n",
    "\n",
    "We still have one more problem to solve, which is the accidental deletion of content from `plot_compare_reduction.py`. Since we know that the state of this path in HEAD is the correct one, we can apply the same operation:"
   ]
  },
  {
   "cell_type": "code",
   "execution_count": null,
   "metadata": {},
   "outputs": [],
   "source": [
    "%%bash\n",
    "cd my_first_repo/\n",
    "git reset HEAD plot_compare_reduction.py\n",
    "git status"
   ]
  },
  {
   "cell_type": "markdown",
   "metadata": {},
   "source": [
    "The accidental change is no longer staged for commit (it no longer exists in the index/staging area), but if we look at the file, it still has the changes we performed in the working tree (our filesystem). In order to undo the changes we did in the file in our working tree, we need to perform an additional operation of restoring the state of the file to the one we had stored in HEAD:"
   ]
  },
  {
   "cell_type": "code",
   "execution_count": null,
   "metadata": {},
   "outputs": [],
   "source": [
    "%%bash\n",
    "cd my_first_repo/\n",
    "git checkout HEAD plot_compare_reduction.py\n",
    "git status"
   ]
  },
  {
   "cell_type": "markdown",
   "metadata": {},
   "source": [
    "Note that we could also have used the command `git checkout -- plot_compare_reduction.py`, where `--` in this case indicates `checkout` to bring the path to the state in HEAD.\n",
    "\n",
    "So we have managed to succesfully unstage the accidental changes, so now we can merrily commit our desired changes and move on:"
   ]
  },
  {
   "cell_type": "code",
   "execution_count": null,
   "metadata": {},
   "outputs": [],
   "source": [
    "%%bash\n",
    "cd my_first_repo/\n",
    "git commit -m 'adding python version check'\n",
    "git status"
   ]
  },
  {
   "cell_type": "markdown",
   "metadata": {},
   "source": [
    "### Reverting previous work\n",
    "\n",
    "Another common situation occurs when we introduce a change in our repository that we later regret. Contrary to the previous situation, in this case we have already committed the change.\n",
    "\n",
    "If the unwanted change is the last one we committed, we could use `git reset` to start working from the last stable state. Unfortunately, this would mean that we're \"re-writing history\" which can cause problems if the changes have already been shared with other collaborators, because each one of us will have a different version of history.\n",
    "\n",
    "So a safer way is to use `git revert`, which allows us to undo the changes in a specific commit by adding an additional commit that does just as much:"
   ]
  },
  {
   "cell_type": "code",
   "execution_count": null,
   "metadata": {},
   "outputs": [],
   "source": [
    "%%bash\n",
    "cd my_first_repo/\n",
    "git log -n 5"
   ]
  },
  {
   "cell_type": "markdown",
   "metadata": {},
   "source": [
    "Suppose we want to undo the changes we performed earlier in commit \"Updating C_OPTIONS to desired values\""
   ]
  },
  {
   "cell_type": "code",
   "execution_count": null,
   "metadata": {},
   "outputs": [],
   "source": [
    "%%bash\n",
    "cd my_first_repo/\n",
    "# update this commit SHA to the one you see in your commit log\n",
    "git show XXXX # <---"
   ]
  },
  {
   "cell_type": "markdown",
   "metadata": {},
   "source": [
    "Reverting to the state previous to these changes is a piece of cake:"
   ]
  },
  {
   "cell_type": "code",
   "execution_count": null,
   "metadata": {},
   "outputs": [],
   "source": [
    "%%bash\n",
    "cd my_first_repo/\n",
    "git revert XXXX # update this commit SHA to the one you see in your commit log"
   ]
  },
  {
   "cell_type": "markdown",
   "metadata": {},
   "source": [
    "And you're done: you can verify by yourself that the state of `plot_compare_reduction.py` is the one previous to the changes we performed.\n",
    "\n",
    "**Warning**: Note that revert gives you a quick way of undoing any type of changes, not just simple changes affecting a single file. This doesn't mean reverting is without risks. Consider for example the setup of the following exercise.\n",
    "\n",
    "**Exercise 1.7**: We will now create a situation where reverting can create a mess. Please follow the next steps of havoc-making:\n",
    "0. Create and checkout new branch off master called `revert_havoc`\n",
    "1. Create a new python module `dependency.py` with a function named `my_dependency()`. Stage and commit the changes.\n",
    "2. Now make a call to that function somewhere in `plot_compare_reduction.py` (Don't forget to import the module first). Stage and commit those changes.\n",
    "3. Now revert the commit created in Step 1. What changes does it induce? Will your code work after the revert? "
   ]
  },
  {
   "cell_type": "markdown",
   "metadata": {},
   "source": [
    "### Summary of time-travel operations\n",
    "\n",
    "In this last section we have learned how to time-travel: go back in time to a state where we are more comfy. As you probably suspected, time-travel is not without risk so it has to be used carefully and judiciously. \n",
    "\n",
    "A nice and concise summary of the time-travel operations is the following:\n",
    "\n",
    "| Command |\tScope |\tCommon use cases|\n",
    "|---|---|---|\n",
    "|git reset|Commit-level|Discard commits in a private branch or throw away uncommited changes|\n",
    "|git reset|File-level|Unstage a file|\n",
    "|git checkout|Commit-level|Switch between branches or inspect old snapshots|\n",
    "|git checkout|File-level|Discard changes in the working directory|\n",
    "|git revert|Commit-level|Undo commits in a public branch|\n",
    "|git revert|File-level|(N/A)|\n",
    "\n",
    "(Adapted from https://www.atlassian.com/git/tutorials/resetting-checking-out-and-reverting)"
   ]
  },
  {
   "cell_type": "markdown",
   "metadata": {
    "slideshow": {
     "slide_type": "slide"
    }
   },
   "source": [
    "## Part III\n",
    "\n",
    "* How to work with friends on the same file... and remain friends (merge)\n",
    "* Working with remote repositories (clone, fetch, pull, push, pull requests)\n",
    "* Contributing flows (forks, feature branches)"
   ]
  },
  {
   "cell_type": "markdown",
   "metadata": {
    "slideshow": {
     "slide_type": "skip"
    }
   },
   "source": [
    "**Warning**: This tutorial assumes you have already completed part 0 and 1 of this tutorial, and have run all the cells in that notebook *exactly once*. **It also assumes you have accomplished Exercise 1.7** (see `../solutions/` if you haven't, run the corresponding cells and come back :))"
   ]
  },
  {
   "cell_type": "markdown",
   "metadata": {},
   "source": [
    "## How to work with friends on the same file... and remain friends (merge)\n",
    "\n",
    "Working with other people is always a challenge. We have different brains, perspectives in life, ideologies... there's no need to make it even harder by working on a same file without the right tools!\n",
    "\n",
    "Luckily git gives us several tools to do that without generating more conflicts than absolutely necessary. One of the set of tools are `git branch`es, the other is the ability to bring work from one branch to another without going bananas.\n",
    "\n",
    "So let's get our hands dirty. We will work off the two branches that we created in **Exercise 1.6** (`$USER/experiment` and `$USER/add_cis_to_plot`). If you succeded in finishing the exercise, you should have two branches with different (and conflicting) changes on the same file (`my_first_repo/plot_compare_reduction.py`) (If you did not succeed, please use the solution provided in the Solutions section).\n",
    "\n",
    "Note that inn this case the changes were performed by the same person, but you can imagine a situation where you were working on one branch and someone else in the other."
   ]
  },
  {
   "cell_type": "code",
   "execution_count": null,
   "metadata": {},
   "outputs": [],
   "source": [
    "%%bash\n",
    "cd my_first_repo/\n",
    "# we have two branches:\n",
    "git branch"
   ]
  },
  {
   "cell_type": "markdown",
   "metadata": {},
   "source": [
    "And conflicting changes:"
   ]
  },
  {
   "cell_type": "code",
   "execution_count": null,
   "metadata": {},
   "outputs": [],
   "source": [
    "%%bash\n",
    "cd my_first_repo/\n",
    "# we have two branches:\n",
    "git diff $USER/experiment $USER/add_cis_to_plot"
   ]
  },
  {
   "cell_type": "markdown",
   "metadata": {},
   "source": [
    "What we will do now is to try to *merge* the changes introduced in these \"feature\" branches, \n",
    "that is, consolidate the progress that we (or the team) made on two independent branches into\n",
    "one single branch. To this end, we will first create a branch (`$USER/merge_work`) off one of our feature branches (say the one we called `$USER/experiment`), and try to merge the content of the other branch (`$USER/add_cis_to_plot`) into this new branch:"
   ]
  },
  {
   "cell_type": "code",
   "execution_count": null,
   "metadata": {},
   "outputs": [],
   "source": [
    "%%bash\n",
    "cd my_first_repo/\n",
    "git checkout -b $USER/merge_work $USER/experiment\n",
    "git merge $USER/add_cis_to_plot"
   ]
  },
  {
   "cell_type": "markdown",
   "metadata": {},
   "source": [
    "If no conflicts arose, git was able to merge the two branches and has created a special merge commit with two ancestors: the last commit in one branch and the last commit in the other:"
   ]
  },
  {
   "cell_type": "code",
   "execution_count": null,
   "metadata": {},
   "outputs": [],
   "source": [
    "%%bash\n",
    "cd my_first_repo/\n",
    "git log --graph -n 10"
   ]
  },
  {
   "cell_type": "markdown",
   "metadata": {},
   "source": [
    "Amazing! If your branch work had no conflicts, you now have a branch `$USER/merge_work` with all the work you've been doing, which you can now test before merging it into the `master` branch: (**If your merge had conflicts, please continue to the next section**)"
   ]
  },
  {
   "cell_type": "code",
   "execution_count": null,
   "metadata": {},
   "outputs": [],
   "source": [
    "%%bash\n",
    "cd my_first_repo/\n",
    "# let's test the changes we introduced:\n",
    "python plot_compare_reduction.py"
   ]
  },
  {
   "cell_type": "markdown",
   "metadata": {},
   "source": [
    "If you have used the solution provided by us in the companion solution notebook `../solutions/1 - Introduction to git for Data Scientists [solutions].ipynb`, you will have run into an error. If you introduced your own changes, perhaps your code ran perfectly and you are good to go.\n",
    "\n",
    "If you did get an error, it turns out we are not done just yet... Which is good news because we're now learning an important lesson: having no merge conflics doesn't mean that you haven't introduced errors in your code. It just means that git was able to mix and match your contributions without needing your aid because the changes were done in different lines of the same file.\n",
    "\n",
    "Let's now play with the case where conflicts arise...\n",
    "\n",
    "### Conflict resolution & peacekeeping\n",
    "\n",
    "Beneath the apparent simplicity, merging branches is a complicated task. Git can use different algorithms to decide how to perform the merge depending on the type of divergences that the two branches have. Explaining the merge strategies is out of the scope of this course (and a very complicated topic, see for instance [here](http://blog.plasticscm.com/2011/09/merge-recursive-strategy.html) and [here](http://raulavila.com/2017/03/como-funciona-git-3/)).\n",
    "\n",
    "For now we will content ourselves with creating a situation where we have conflicts and learning how to resolve them:"
   ]
  },
  {
   "cell_type": "code",
   "execution_count": null,
   "metadata": {},
   "outputs": [],
   "source": [
    "%%bash\n",
    "# we will emulate the situation where someone else has started working on a feature off\n",
    "# the master branch, and she changed a line that we also changed. In this case\n",
    "# the change is a bit silly (a variable name change), though perhaps not a completely\n",
    "# unfamiliar situation :)\n",
    "cd my_first_repo/\n",
    "git checkout -b super_feature master\n",
    "sed -i -e 's/C_OPTIONS/SVM_C_OPTIONS/g' plot_compare_reduction.py > plot_compare_reduction.py.tmp\n",
    "mv plot_compare_reduction.py.tmp plot_compare_reduction.py\n",
    "git commit -a -m 'super contribution to super feature'\n",
    "git log --graph -n 5"
   ]
  },
  {
   "cell_type": "markdown",
   "metadata": {},
   "source": [
    "Now if we try to merge this `super_feature` branch with our `$USER/merge_work`... "
   ]
  },
  {
   "cell_type": "code",
   "execution_count": null,
   "metadata": {},
   "outputs": [],
   "source": [
    "%%bash\n",
    "cd my_first_repo/\n",
    "git merge $USER/merge_work"
   ]
  },
  {
   "cell_type": "markdown",
   "metadata": {},
   "source": [
    "Uh oh! Conflicts happened! No need to freak out though because git is nice enough to tell us what to do next:\n",
    "\n",
    "```\n",
    "CONFLICT (content): Merge conflict in plot_compare_reduction.py\n",
    "Automatic merge failed; fix conflicts and then commit the result.\n",
    "```\n",
    "\n",
    "So let's do it, we will open the `plot_compare_reduction.py` file and see where `git` run into trouble:"
   ]
  },
  {
   "cell_type": "code",
   "execution_count": null,
   "metadata": {},
   "outputs": [],
   "source": [
    "%%bash\n",
    "cd my_first_repo/\n",
    "cat plot_compare_reduction.py"
   ]
  },
  {
   "cell_type": "markdown",
   "metadata": {},
   "source": [
    "**Exercise 2.0:** Fix the merge conflicts and commit the changes. The merge is now done and we can move on to the next section!"
   ]
  },
  {
   "cell_type": "markdown",
   "metadata": {},
   "source": [
    "## Remote repositories & teleportation\n",
    "\n",
    "As you know, a lot of the work we Data Scientists do is not limited to being developed and run in our local machine. In addition, we also like our work to be safe and secure somewhere outside the reach of a potential coffee spill...\n",
    "\n",
    "Remote repositories are versions of our local repository that are stored... remotely (hence the teleportation pun). The most well-known remote server is `github.com` but you should know there's a few other well known ones like `bitbucket`, `sourceforge` or `gitlab`. \n",
    "\n",
    "In this section we will see how to perform the most common operations with remote repositories:\n",
    "* Creating a remote repository and setting up a remote for your local repository\n",
    "* Listing and manipulating the remote repositories for an existing project (remote)\n",
    "* Pushing and pulling from remote repositories (fetch, pull, push)\n",
    "* Issuing Pull Requests \n",
    "\n",
    "Reference: https://git-scm.com/book/en/v2/Git-Basics-Working-with-Remotes\n",
    "\n",
    "### Creating a remote repository and setting up a remote for your local repository\n",
    "\n",
    "If we try to see what remotes are currently set up for the repository we have created in earlier parts of this tutorial, we see that there's none:"
   ]
  },
  {
   "cell_type": "code",
   "execution_count": null,
   "metadata": {},
   "outputs": [],
   "source": [
    "%%bash\n",
    "cd my_first_repo/\n",
    "git remote -v"
   ]
  },
  {
   "cell_type": "markdown",
   "metadata": {},
   "source": [
    "So since we want to be able to save and share all our hard work with other people, our first step will be to add a remote to `my_first_repo`.\n",
    "\n",
    "Start by creating a new public repository on [github.com](https://github.com/). For that you will need a github user. Please name your repository `my_first_repo`. After that, you can add this remote to your repo as follows:"
   ]
  },
  {
   "cell_type": "code",
   "execution_count": null,
   "metadata": {},
   "outputs": [],
   "source": [
    "%%bash\n",
    "cd my_first_repo/\n",
    "git remote -v\n",
    "git remote add origin git@github.com:atibaup/my_first_repo.git"
   ]
  },
  {
   "cell_type": "markdown",
   "metadata": {},
   "source": [
    "So now if you try again, you should see your newly added remote:"
   ]
  },
  {
   "cell_type": "code",
   "execution_count": null,
   "metadata": {},
   "outputs": [],
   "source": [
    "%%bash\n",
    "cd my_first_repo/\n",
    "git remote -v"
   ]
  },
  {
   "cell_type": "markdown",
   "metadata": {},
   "source": [
    "**Exercise 2.1**: Pair up with another student and add his repository as one of your remotes."
   ]
  },
  {
   "cell_type": "markdown",
   "metadata": {},
   "source": [
    "If you want to see the branches for a remote, it suffices to run"
   ]
  },
  {
   "cell_type": "code",
   "execution_count": null,
   "metadata": {},
   "outputs": [],
   "source": [
    "%%bash\n",
    "cd my_first_repo/\n",
    "git remote show origin \n",
    "# In this case you won't see much information here because the remote repository you created only has one branch"
   ]
  },
  {
   "cell_type": "markdown",
   "metadata": {},
   "source": [
    "Now that your repository has a brand new remote, you can merrily pull and push data from and towards it. Since the remote repository is brand new, there's nothing for us yet to fetch:"
   ]
  },
  {
   "cell_type": "code",
   "execution_count": null,
   "metadata": {},
   "outputs": [],
   "source": [
    "%%bash\n",
    "cd my_first_repo/\n",
    "git fetch origin"
   ]
  },
  {
   "cell_type": "markdown",
   "metadata": {},
   "source": [
    "So we can push our local branches to the remote repository:"
   ]
  },
  {
   "cell_type": "code",
   "execution_count": null,
   "metadata": {},
   "outputs": [],
   "source": [
    "%%bash\n",
    "cd my_first_repo/\n",
    "git push origin master"
   ]
  },
  {
   "cell_type": "markdown",
   "metadata": {},
   "source": [
    "And voilà, you and everyone else (with access) can play with your world-saving contributions!\n",
    "\n",
    "**Exercise 2.2**: Fetch from your colleague's remotes which you added in Exercise 2.1."
   ]
  },
  {
   "cell_type": "markdown",
   "metadata": {},
   "source": [
    "### Fetching is not pulling\n",
    "\n",
    "When you fetch a branch from a remote, `git` only saves a copy of the remotes snapshot in your local repository, under a special type of branch called \"remote-tracking branches\" that explicitly relate them to the remote you fetched from.\n",
    "\n",
    "This means that in order to incorporate the remote branch changes into your local branch, you would need to `merge` the content from the recently fetched branch into your local branch. So you can either:"
   ]
  },
  {
   "cell_type": "code",
   "execution_count": null,
   "metadata": {},
   "outputs": [],
   "source": [
    "%%bash\n",
    "cd my_first_repo/\n",
    "# assuming you're already in your master branch\n",
    "git fetch origin\n",
    "# likely will do nothing because both your remote and local master branch are already in sync,\n",
    "# unless you have added changes to either on your own\n",
    "git merge origin/master"
   ]
  },
  {
   "cell_type": "markdown",
   "metadata": {},
   "source": [
    "Or use `git pull` synthactic sugar, which fetches and merges the remote-tracking branch into your current branch:"
   ]
  },
  {
   "cell_type": "code",
   "execution_count": null,
   "metadata": {},
   "outputs": [],
   "source": [
    "%%bash\n",
    "cd my_first_repo/\n",
    "# assuming you're already in your master branch\n",
    "git pull origin master"
   ]
  },
  {
   "cell_type": "markdown",
   "metadata": {},
   "source": [
    "### Tracking branches\n",
    "\n",
    "Tracking branches are local branches that are directly related to a remote branch. They are convenient because they save us some typing when we want to pull/push from a remote branch so that instead of having to write:\n",
    "```\n",
    "git pull my_remote my_remote_branch\n",
    "```\n",
    "we can simply do:\n",
    "```\n",
    "git pull\n",
    "```\n",
    "To create a tracking branch directly from an existing remote branch, git offers the following shortcut:\n",
    "```\n",
    "git checkout --track origin/serverfix\n",
    "```\n",
    "instead of the more verbose `git checkout -b [branch] [remotename]/[branch]`.\n",
    "\n",
    "On the other hand, if you want to quickly see what if any remote branches your local branch are tracking, you can run:"
   ]
  },
  {
   "cell_type": "code",
   "execution_count": null,
   "metadata": {},
   "outputs": [],
   "source": [
    "%%bash\n",
    "cd my_first_repo/\n",
    "git branch -vv"
   ]
  },
  {
   "cell_type": "markdown",
   "metadata": {},
   "source": [
    "If you want an existing local branch to start tracking a specific remote branch,\n",
    "it suffices to run ```git branch -u origin/serverfix```"
   ]
  },
  {
   "cell_type": "markdown",
   "metadata": {},
   "source": [
    "### Issuing pull requests\n",
    "\n",
    "When working in a collaborative environment, you don't usually want to push your contributions directly to a repository's master branch. One of the reasons is that the code you modified is probably not just your own, which means you may want to get it double-checked by a more knowledgeable pair of eyes. Another reason is that it is usually good practice to let someone else be aware of the changes you introduced, in case you decide to take that long-awaited tropical beach vacation before everything breaks down...\n",
    "\n",
    "There are some good practices that are helpful to make the most of code reviews during pull request.\n",
    "\n",
    "For the contributor:\n",
    "1. Make your code reproducible and provide reproducibility instructions: it's easier to understand things if one can run them!\n",
    "2. Describe the purpose of the code changes in the PR description\n",
    "3. Give instructions on what you would like to have reviewed (ex: a specific function, a line of code that you're not sure about)\n",
    "4. Make small pull requests! (ex: [The art of the small pull request](https://medium.com/letgo/the-art-of-the-small-pull-request-303f7ef63901))\n",
    "5. Always assign your PR, if possible to one or two reviewers, not more.\n",
    "\n",
    "\n",
    "For the reviewer:\n",
    "1. Review the PR promptly, or else let the contributor know if you can't.\n",
    "2. Be nice! Everyone writes bad code, and most of the times, it's ok!\n",
    "3. Categorize comments as \"minor\" (not necessary for PR approval) or \"required\".\n",
    "4. Try to learn from other people's brains.\n",
    "\n",
    "\n",
    "If you are curious, these are a couple of interesting additional references regarding collaboration workflows in git:\n",
    "* https://reflectoring.io/github-fork-and-pull/\n",
    "* https://www.atlassian.com/git/tutorials/comparing-workflows\n"
   ]
  }
 ],
 "metadata": {
  "kernelspec": {
   "display_name": "ml_in_prod",
   "language": "python",
   "name": "ml_in_prod"
  },
  "language_info": {
   "codemirror_mode": {
    "name": "ipython",
    "version": 3
   },
   "file_extension": ".py",
   "mimetype": "text/x-python",
   "name": "python",
   "nbconvert_exporter": "python",
   "pygments_lexer": "ipython3",
   "version": "3.7.3"
  }
 },
 "nbformat": 4,
 "nbformat_minor": 2
}
